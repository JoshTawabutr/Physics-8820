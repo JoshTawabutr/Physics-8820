{
 "cells": [
  {
   "cell_type": "markdown",
   "metadata": {
    "slideshow": {
     "slide_type": "slide"
    }
   },
   "source": [
    "# Parameter estimation example: Gaussian noise and averages\n",
    "\n",
    "Adapted from Sivia: *Data Analysis: A Bayesian Tutorial*\n",
    "\n",
    "Here we'll take a look at a simple parameter-estimation problem. We will compare the frequentist and Bayesian approaches. This problem is an extended version of Example 2 in Ch 2.3 of the book by Sivia. This short book is very readable and is highly recommended.\n",
    "\n",
    "This notebook was adapted from a broad introduction to Bayesian statistics put together by Christian Forssen for the 2019 TALENT school on [\"Learning from Data\"](https://nucleartalent.github.io/Bayes2019/)."
   ]
  },
  {
   "cell_type": "code",
   "execution_count": 2,
   "metadata": {
    "slideshow": {
     "slide_type": "subslide"
    }
   },
   "outputs": [],
   "source": [
    "import numpy as np\n",
    "import matplotlib.pyplot as plt\n",
    "%matplotlib inline\n",
    "\n",
    "# Not really needed, but nicer plots\n",
    "import seaborn as sns\n",
    "sns.set()      \n",
    "sns.set_context(\"talk\")"
   ]
  },
  {
   "cell_type": "code",
   "execution_count": 3,
   "metadata": {},
   "outputs": [
    {
     "name": "stdout",
     "output_type": "stream",
     "text": [
      "Collecting package metadata (current_repodata.json): done\n",
      "Solving environment: done\n",
      "\n",
      "## Package Plan ##\n",
      "\n",
      "  environment location: /opt/anaconda3\n",
      "\n",
      "  added / updated specs:\n",
      "    - emcee\n",
      "\n",
      "\n",
      "The following packages will be downloaded:\n",
      "\n",
      "    package                    |            build\n",
      "    ---------------------------|-----------------\n",
      "    conda-4.10.3               |   py38hecd8cb5_0         2.9 MB\n",
      "    emcee-2.2.1                |     pyh24bf2e0_4          22 KB  astropy\n",
      "    ------------------------------------------------------------\n",
      "                                           Total:         2.9 MB\n",
      "\n",
      "The following NEW packages will be INSTALLED:\n",
      "\n",
      "  emcee              astropy/noarch::emcee-2.2.1-pyh24bf2e0_4\n",
      "\n",
      "The following packages will be UPDATED:\n",
      "\n",
      "  conda                                4.9.2-py38hecd8cb5_0 --> 4.10.3-py38hecd8cb5_0\n",
      "\n",
      "\n",
      "\n",
      "Downloading and Extracting Packages\n",
      "conda-4.10.3         | 2.9 MB    | ##################################### | 100% \n",
      "emcee-2.2.1          | 22 KB     | ##################################### | 100% \n",
      "Preparing transaction: done\n",
      "Verifying transaction: done\n",
      "Executing transaction: done\n",
      "\n",
      "Note: you may need to restart the kernel to use updated packages.\n"
     ]
    }
   ],
   "source": [
    "conda install -c astropy emcee"
   ]
  },
  {
   "cell_type": "code",
   "execution_count": 3,
   "metadata": {
    "slideshow": {
     "slide_type": "fragment"
    }
   },
   "outputs": [],
   "source": [
    "# Modules needed for example: emcee is for MCMCsampling, corner for plotting\n",
    "from scipy import stats\n",
    "import emcee\n",
    "import corner"
   ]
  },
  {
   "cell_type": "markdown",
   "metadata": {
    "slideshow": {
     "slide_type": "subslide"
    }
   },
   "source": [
    "Let us consider the problem of estimating the mean and the variance of a normal distribution that is associated with a collection of random variables. The normal distribution\n",
    "$$\n",
    "p(x|\\mu,\\sigma) = \\frac{1}{\\sqrt{2\\pi}\\sigma} \\exp \\left(-\\frac{(x-\\mu)^2}{2\\sigma^2} \\right),\n",
    "$$\n",
    "is often used as a theoretical model to describe the noise associated with experimental data.\n",
    "\n",
    "*Why is a normal (Gaussian) distribution so often a good statistical model?* \n",
    "\n",
    "    CLT"
   ]
  },
  {
   "cell_type": "markdown",
   "metadata": {
    "slideshow": {
     "slide_type": "subslide"
    }
   },
   "source": [
    "Let us assume that we have a series of $M$ measurements $D \\equiv \\{ x_k \\} = (x_1, \\ldots, x_M)$, that are samples from a normal $\\mathcal{N}(\\mu, \\sigma^2)$ population, from which we would like to learn the approximate values of the parameters $\\mu$ and $\\sigma$. The standard frequentist approach to this problem is the maximum likelihood method. The Bayesian approach is to compute the posterior distribution for the model parameters $\\mu$ and $\\sigma$.\n",
    "\n",
    "Here we'll use Python to generate some toy data to demonstrate the two approaches to the problem. "
   ]
  },
  {
   "cell_type": "code",
   "execution_count": 4,
   "metadata": {
    "slideshow": {
     "slide_type": "subslide"
    }
   },
   "outputs": [],
   "source": [
    "# Generating some data\n",
    "np.random.seed(10)  # for repeatability\n",
    "\n",
    "mu_true = 10   # true peak position \n",
    "sigma_true = 1 # true standard deviation \n",
    "M = 100 # number of measurements\n",
    "D = stats.norm.rvs(mu_true, sigma_true, size=M)  # M measurements (samples)"
   ]
  },
  {
   "cell_type": "markdown",
   "metadata": {
    "slideshow": {
     "slide_type": "fragment"
    }
   },
   "source": [
    "**Side note:** try shift-tab-tab to get documentation!"
   ]
  },
  {
   "cell_type": "code",
   "execution_count": 5,
   "metadata": {
    "scrolled": true,
    "slideshow": {
     "slide_type": "fragment"
    }
   },
   "outputs": [
    {
     "data": {
      "text/plain": [
       "array([11.3315865 , 10.71527897,  8.45459971,  9.99161615, 10.62133597,\n",
       "        9.27991444, 10.26551159, 10.10854853, 10.00429143,  9.82539979,\n",
       "       10.43302619, 11.20303737,  9.03493433, 11.02827408, 10.22863013,\n",
       "       10.44513761,  8.86339779, 10.13513688, 11.484537  ,  8.92019511,\n",
       "        8.02227172,  8.2566277 , 10.26607016, 12.38496733, 11.12369125,\n",
       "       11.67262221, 10.09914922, 11.39799638,  9.72875201, 10.61320418,\n",
       "        9.73268281,  9.45069099, 10.1327083 ,  9.52385799, 11.30847308,\n",
       "       10.19501328, 10.40020999,  9.66236766, 11.25647226,  9.2680305 ,\n",
       "       10.66023155,  9.64912811,  9.06056664,  9.51066278,  9.19540886,\n",
       "        9.78730236,  9.66085975, 10.31216994, 10.56515267,  9.85257974,\n",
       "        9.97409466, 10.2890942 ,  9.46012093, 10.70816002, 10.84222474,\n",
       "       10.2035808 , 12.39470366, 10.91745894,  9.88772753,  9.63781955,\n",
       "        9.76781774,  9.4982711 , 11.12878515,  9.30218997,  9.91887782,\n",
       "        9.47070392, 11.04618286,  8.58144397,  9.63750082,  9.87809431,\n",
       "       10.31935642, 10.4609029 ,  9.78421011, 10.98907246, 10.31475378,\n",
       "       12.46765106,  8.49167851, 10.62060066,  8.95486746,  9.20199118,\n",
       "       11.98508459, 11.74481415,  8.14381452,  9.7772263 ,  9.93415215,\n",
       "        7.86828789,  9.95116949, 10.39334122, 10.21726515,  8.00560623,\n",
       "       11.10770823, 10.24454398,  9.93808797,  9.24610704, 10.71195902,\n",
       "       10.91826915,  9.51790686, 10.08958761, 10.82699862,  8.04548788])"
      ]
     },
     "execution_count": 5,
     "metadata": {},
     "output_type": "execute_result"
    }
   ],
   "source": [
    "D"
   ]
  },
  {
   "cell_type": "code",
   "execution_count": 6,
   "metadata": {},
   "outputs": [
    {
     "name": "stdout",
     "output_type": "stream",
     "text": [
      "[ 1. 11. 71. 14.  3.]\n",
      "|z| <= 1: 0.71\n",
      "|z| <= 2: 0.96\n"
     ]
    }
   ],
   "source": [
    "counts = np.zeros(5)\n",
    "for x in D:\n",
    "    if x < 8:\n",
    "        counts[0] += 1\n",
    "    elif x >= 8 and x < 9:\n",
    "        counts[1] += 1\n",
    "    elif x >= 9 and x <= 11:\n",
    "        counts[2] += 1\n",
    "    elif x > 11 and x <= 12:\n",
    "        counts[3] += 1\n",
    "    else:\n",
    "        counts[4] += 1\n",
    "print(counts)\n",
    "print(\"|z| <= 1:\", (counts[2])/M)\n",
    "print(\"|z| <= 2:\", (M - counts[0] - counts[4])/M)"
   ]
  },
  {
   "cell_type": "markdown",
   "metadata": {
    "slideshow": {
     "slide_type": "fragment"
    }
   },
   "source": [
    "*Look at the array `D`.  Are the number of entries in the \"tails\" what you would expect?*  \n",
    "\n",
    "*Hint: Roughly how many entries do you expect to find two sigma away from the mean?*\n",
    "\n",
    "    Roughly, yes: 71% within 1 SD, and 96% within 2."
   ]
  },
  {
   "cell_type": "markdown",
   "metadata": {
    "slideshow": {
     "slide_type": "fragment"
    }
   },
   "source": [
    "Let's verify your answer with visualizations!"
   ]
  },
  {
   "cell_type": "markdown",
   "metadata": {
    "slideshow": {
     "slide_type": "subslide"
    }
   },
   "source": [
    "First, let's make two simple visualizations of the \"measured\" data: a scatter plot and a histogram"
   ]
  },
  {
   "cell_type": "code",
   "execution_count": 7,
   "metadata": {},
   "outputs": [
    {
     "data": {
      "image/png": "[encoded data removed]",
      "text/plain": [
       "<Figure size 432x288 with 1 Axes>"
      ]
     },
     "metadata": {},
     "output_type": "display_data"
    },
    {
     "data": {
      "image/png": "[encoded data removed]",
      "text/plain": [
       "<Figure size 432x288 with 1 Axes>"
      ]
     },
     "metadata": {},
     "output_type": "display_data"
    }
   ],
   "source": [
    "fig1, ax1 = plt.subplots()\n",
    "ax1.scatter(D, np.arange(M), alpha=0.5)\n",
    "ax1.vlines([mu_true], 0, M, alpha=0.2)\n",
    "ax1.set_xlabel(\"x\"); ax1.set_ylabel(\"measurement number\");\n",
    "\n",
    "fig2, ax2 = plt.subplots()\n",
    "ax2.hist(D,alpha   =0.5)\n",
    "#ax1.vlines([mu_true], 0, M, alpha=0.2)\n",
    "ax2.set_xlabel(\"x\"); ax2.set_ylabel(\"counts\");\n"
   ]
  },
  {
   "cell_type": "markdown",
   "metadata": {
    "slideshow": {
     "slide_type": "subslide"
    }
   },
   "source": [
    "`Matplotlib` alternative: one figure with two subplots using an array of axes."
   ]
  },
  {
   "cell_type": "code",
   "execution_count": 8,
   "metadata": {
    "scrolled": false,
    "slideshow": {
     "slide_type": "fragment"
    }
   },
   "outputs": [
    {
     "data": {
      "image/png": "[encoded data removed]",
      "text/plain": [
       "<Figure size 864x360 with 2 Axes>"
      ]
     },
     "metadata": {},
     "output_type": "display_data"
    }
   ],
   "source": [
    "fig, axes = plt.subplots(nrows=1, ncols=2, figsize=(12,5))\n",
    "# An alternative keeping the same axis names as before would be:\n",
    "#  fig, (ax1, ax2) = plt.subplots(nrows=1, ncols=2, figsize=(12,5))\n",
    "\n",
    "axes[0].scatter(D, np.arange(M), alpha=0.5)\n",
    "axes[0].vlines([mu_true], 0, M, color='red', alpha=0.2)\n",
    "axes[0].set_xlabel(\"x\"); axes[0].set_ylabel(\"measurement number\");\n",
    "\n",
    "axes[1].hist(D,alpha=0.5)\n",
    "axes[1].set_xlabel(\"x\"); axes[1].set_ylabel(\"counts\");\n",
    "\n",
    "fig.tight_layout()"
   ]
  },
  {
   "cell_type": "markdown",
   "metadata": {
    "slideshow": {
     "slide_type": "fragment"
    }
   },
   "source": [
    "*What can you conclude about the tails?*\n",
    "\n",
    "*Change np.random.seed(1) to a different number so that a different set of random numbers is generated.*\n",
    "\n",
    "   The left tail is a bit heavy given the true mean and true SD. This is likely to change if we use a different random seed."
   ]
  },
  {
   "cell_type": "markdown",
   "metadata": {
    "slideshow": {
     "slide_type": "slide"
    }
   },
   "source": [
    "### Frequentist approach to Gaussian parameter estimation\n",
    "\n",
    "We'll start with the classical frequentist **maximum likelihood** approach. The probability of a single measurement $D_i$ having a value $x_i$ is given by \n",
    "\n",
    "$$ p(x_i~|~\\mu, \\sigma) = \\frac{1}{\\sqrt{2\\pi \\sigma^2}} \\exp{\\left[\\frac{-(x_i - \\mu)^2}{2 \\sigma^2}\\right]}, $$\n",
    "\n",
    "where $\\mu$, $\\sigma$ are the *true* values for the model parameters.\n",
    "\n",
    "We construct the **likelihood function** by computing the product of the probabilities for each data point:\n",
    "\n",
    "$$\\mathcal{L}(D~|~\\mu, \\sigma) = \\prod_{i=1}^M p(x_i~|~\\mu, \\sigma)$$\n",
    "\n"
   ]
  },
  {
   "cell_type": "markdown",
   "metadata": {
    "slideshow": {
     "slide_type": "subslide"
    }
   },
   "source": [
    "\n",
    "Because the value of the likelihood can become very small, it is often more convenient to instead compute the log-likelihood. Furthermore, when we are looking for the maximum of the likelihood, we might just as well maximize the log-likelihood. Combining the previous two equations and computing the log, we have\n",
    "\n",
    "$$\\log\\mathcal{L} = -\\frac{1}{2} \\sum_{i=1}^M \\left[ \\log(2\\pi  \\sigma^2) + \\frac{(x_i - \\mu)^2}{\\sigma^2} \\right]$$\n",
    "\n",
    "What we'd like to do is find $\\mu_0,\\sigma_0$ such that the likelihood (or log likelihood) is maximized. For this simple problem, the maximization can be computed analytically (i.e. by setting $\\left. \\partial\\log\\mathcal{L}/\\partial\\mu \\right|_{\\mu_0,\\sigma_0} = \\left. \\partial\\log\\mathcal{L}/\\partial\\sigma \\right|_{\\mu_0,\\sigma_0} = 0$).  This results in the following *maximum-likelihood estimates* of the true parameters:\n",
    "\n",
    "$$ \n",
    "\\mu_0 = \\frac{1}{M}\\sum_{i=1}^M x_i \\\\\n",
    "\\sigma_0^2 = \\frac{1}{M}\\sum_{i=1}^M (x_i - \\mu_0)^2\n",
    "$$\n",
    "\n",
    "In principle, we should also compute the second derivatives to make sure that this point represents a maximum rather than a minimum or a saddle point. However, in agreement with intuition, $\\mu_0$ is simply the mean of the observed data. These results are fairly simple calculations; let's evaluate them for our toy dataset:"
   ]
  },
  {
   "cell_type": "code",
   "execution_count": 9,
   "metadata": {
    "slideshow": {
     "slide_type": "subslide"
    }
   },
   "outputs": [
    {
     "name": "stdout",
     "output_type": "stream",
     "text": [
      "\n",
      "      (mu,sigma)_true = 10.00, 1.00\n",
      "      \n",
      "      Sample estimators: \n",
      "      (mu,sigma)_0  = 10.08, 0.97 (based on 100 measurements)\n",
      "      \n"
     ]
    }
   ],
   "source": [
    "# Estimators: sample mean and (sqrt of) sample variance\n",
    "# Sometimes the *unbiased* estimator for the sample variance is used \n",
    "# with (M-1) degrees of freedom...\n",
    "mu_est = D.sum()/M\n",
    "sigma_est = np.sqrt(((D-mu_est)**2).sum()/M)\n",
    "print(\"\"\"\n",
    "      (mu,sigma)_true = {0:.2f}, {1:.2f}\n",
    "      \n",
    "      Sample estimators: \n",
    "      (mu,sigma)_0  = {2:.2f}, {3:.2f} (based on {4} measurements)\n",
    "      \"\"\".format(mu_true, sigma_true, mu_est, sigma_est, M))"
   ]
  },
  {
   "cell_type": "markdown",
   "metadata": {},
   "source": [
    "**Aside:** using `fstrings` by putting an `f` in front of the quotes."
   ]
  },
  {
   "cell_type": "code",
   "execution_count": 10,
   "metadata": {
    "slideshow": {
     "slide_type": "fragment"
    }
   },
   "outputs": [
    {
     "name": "stdout",
     "output_type": "stream",
     "text": [
      "\n",
      "      (mu,sigma)_true = 10.00, 1.00\n",
      "      \n",
      "      Sample estimators:\n",
      "      (mu,sigma)_0 = 10.08, 0.97 (based on 100 measurements)\n",
      "      \n"
     ]
    }
   ],
   "source": [
    "# Estimators: sample mean and (sqrt of) sample variance\n",
    "# Sometimes the *unbiased* estimator for the sample variance is used with \n",
    "# (M-1) degrees of freedom...\n",
    "mu_est = D.sum()/M\n",
    "sigma_est = np.sqrt(((D-mu_est)**2).sum()/M)\n",
    "print(f\"\"\"\n",
    "      (mu,sigma)_true = {mu_true:.2f}, {sigma_true:.2f}\n",
    "      \n",
    "      Sample estimators:\n",
    "      (mu,sigma)_0 = {mu_est:.2f}, {sigma_est:.2f} (based on {M} measurements)\n",
    "      \"\"\")"
   ]
  },
  {
   "cell_type": "markdown",
   "metadata": {
    "slideshow": {
     "slide_type": "slide"
    }
   },
   "source": [
    "### Bayesian approach to Gaussian parameter estimation\n",
    "The Bayesian approach begins and ends with probabilities (pdfs).  It recognizes that what we fundamentally want to compute is our knowledge of the parameters in question, i.e. in this case,\n",
    "\n",
    "$$ p(\\mu,\\sigma~|~D, I) $$\n",
    "\n",
    "Note that this formulation of the problem is *fundamentally contrary* to the frequentist philosophy, which says that *probabilities have no meaning for model parameters* like $\\mu,\\sigma$. Nevertheless, within the Bayesian philosophy this is perfectly acceptable. \n",
    "\n",
    "To compute this result, Bayesians next apply [Bayes' Theorem](https://en.wikipedia.org/wiki/Bayes%27_theorem), here with the hypothesis being the Gaussian model expressed in terms of the model parameters\n",
    "\n",
    "$$ p(\\mu,\\sigma~|~D, I) = \\frac{p(D~|~\\mu,\\sigma, I)~p(\\mu,\\sigma~|~I)}{p(D~|~I)} $$\n",
    "\n",
    "Though Bayes' theorem is where Bayesians get their name, it is not this law itself that is controversial, but the Bayesian *interpretation of probability* implied by the term $p(\\mu,\\sigma~|~D, I)$.\n",
    "\n",
    "Let's take a look at each of the terms in this expression:\n",
    "\n",
    "- $p(\\mu,\\sigma~|~D, I)$: The **posterior**, or the probability of the model parameters given the data: this is the result we want to compute.\n",
    "- $p(D~|~\\mu,\\sigma, I)$: The **likelihood**, which is proportional to the $\\mathcal{L}(D~|~\\mu,\\sigma)$ in the frequentist approach, above.\n",
    "- $p(\\mu,\\sigma~|~I)$: The **model prior**, which encodes what we knew about the model prior to the application of the data $D$.\n",
    "- $p(D~|~I)$: The **data probability**, which in practice amounts to simply a normalization term.\n",
    "\n",
    "If we set the prior $p(\\mu,\\sigma~|~I) \\propto 1$ (a *flat prior*), we find\n",
    "\n",
    "$$p(\\mu,\\sigma~|~D,I) \\propto \\mathcal{L}(D|\\mu,\\sigma)$$\n",
    "\n",
    "and the Bayesian probability is maximized at precisely the same value as the frequentist result! So despite the philosophical differences, we see that (for this simple problem at least) the Bayesian and frequentist point estimates are equivalent."
   ]
  },
  {
   "cell_type": "markdown",
   "metadata": {
    "slideshow": {
     "slide_type": "subslide"
    }
   },
   "source": [
    "### But what about the prior?\n",
    "You'll noticed that we glossed over something here: the prior, $p(\\mu,\\sigma)$. The choice of prior will be discussed <span style=\"color:red\">repeatedly</span> in the course, but we can already note that it allows inclusion of other information into the computation. This feature becomes very useful in cases where multiple measurement strategies are being combined to constrain a single model. The necessity to specify a prior, however, is one of the more controversial pieces of Bayesian analysis.\n",
    "\n",
    "A frequentist will point out that the prior is problematic when no true prior information is available. Though it might seem straightforward to use a **noninformative prior** like the flat prior mentioned above, there are some [surprisingly subtleties](http://normaldeviate.wordpress.com/2013/07/13/lost-causes-in-statistics-ii-noninformative-priors/comment-page-1/) involved. It turns out that in many situations, a truly noninformative prior does not exist! Frequentists point out that the subjective choice of a prior which necessarily biases your result has no place in statistical data analysis.\n",
    "\n",
    "A Bayesian would counter that frequentism doesn't solve this problem, but simply skirts the question. Frequentism can often be viewed as simply a special case of the Bayesian approach for some (implicit) choice of the prior: a Bayesian would say that it's better to make this implicit choice explicit, even if the choice might include some subjectivity."
   ]
  },
  {
   "cell_type": "markdown",
   "metadata": {
    "slideshow": {
     "slide_type": "subslide"
    }
   },
   "source": [
    "### Applying the Bayesian approach\n",
    "Leaving these philosophical debates aside for the time being, let's address how Bayesian results are generally computed in practice. For a one parameter problem like the one considered here, it's as simple as computing the posterior probability $p(\\mu,\\sigma~|~D,I)$ as a function of $\\mu,\\sigma$: this is the distribution reflecting our knowledge of the parameter $\\mu,\\sigma$. But as the dimension of the model grows, this direct approach becomes increasingly intractable. For this reason, Bayesian calculations often depend on sampling methods such as [Markov Chain Monte Carlo (MCMC)](http://en.wikipedia.org/wiki/Markov_chain_Monte_Carlo). \n",
    "\n",
    "We won't go into the details of the theory of MCMC here (again, we will be discussing this topic during the course). Instead we will show a practical example of applying an MCMC approach using Dan Foreman-Mackey's excellent [emcee](http://dan.iel.fm/emcee/current/)  package.  Keep in mind here that the goal is to *generate a set of points drawn from the posterior probability distribution*, and to use those points to determine the answer we seek.\n",
    "\n",
    "To perform this MCMC, we start by defining Python functions for the prior $p(\\mu,\\sigma~|~I)$, the likelihood $p(D~|~\\mu,\\sigma, I)$, and the posterior $p(\\mu,\\sigma~|~D,I)$, noting that none of these need be properly normalized. Our model here is two-dimensional so we'll define the model in terms of an array of parameters $\\theta$, which in this case is $\\theta = [\\mu,\\sigma]$:"
   ]
  },
  {
   "cell_type": "code",
   "execution_count": 11,
   "metadata": {
    "slideshow": {
     "slide_type": "subslide"
    }
   },
   "outputs": [],
   "source": [
    "min_theta=np.array([0,0])\n",
    "max_theta=np.array([100,10])\n",
    "volume_theta=np.prod(max_theta-min_theta)\n",
    "\n",
    "def log_prior(theta):\n",
    "    '''Log prior for parameter array theta'''\n",
    "    assert len(theta)==2, \"Parameter vector must have length two.\"\n",
    "    # flat prior \n",
    "    if np.logical_and(min_theta<=theta, theta<=max_theta).all(): \n",
    "        return np.log(1/volume_theta)\n",
    "    else:\n",
    "        return -np.inf\n",
    "\n",
    "def log_likelihood(theta, X):\n",
    "    '''Log likelihood for data X given parameter array theta'''\n",
    "    try:\n",
    "        return -0.5 * np.sum( ( (X - theta[0]) / theta[1] )** 2 ) \\\n",
    "               - 0.5*len(X)*np.log(2*np.pi*theta[1]**2)\n",
    "    except ValueError:\n",
    "        return -np.inf\n",
    "\n",
    "def log_posterior(theta, X):\n",
    "    '''Log posterior for data X given parameter array theta'''\n",
    "    return log_prior(theta) + log_likelihood(theta, X)"
   ]
  },
  {
   "cell_type": "markdown",
   "metadata": {
    "slideshow": {
     "slide_type": "slide"
    }
   },
   "source": [
    "Now we set up the problem, including generating some random starting guesses for the multiple chains of points."
   ]
  },
  {
   "cell_type": "code",
   "execution_count": 12,
   "metadata": {
    "slideshow": {
     "slide_type": "fragment"
    }
   },
   "outputs": [
    {
     "name": "stdout",
     "output_type": "stream",
     "text": [
      "MCMC sampling using emcee (affine-invariant ensamble sampler) with 50 walkers\n",
      "Mean acceptance fraction: 0.713 (in total 50000 steps)\n"
     ]
    }
   ],
   "source": [
    "ndim = 2  # number of parameters in the model\n",
    "nwalkers = 50  # number of MCMC walkers\n",
    "nburn = 1000  # \"burn-in\" period to let chains stabilize\n",
    "nsteps = 1000  # number of MCMC steps to take\n",
    "\n",
    "# we'll start at random locations within the prior volume\n",
    "starting_guesses = min_theta + \\\n",
    "                   (max_theta - min_theta) * np.random.rand(nwalkers,ndim)\n",
    "\n",
    "print(\"MCMC sampling using emcee (affine-invariant ensamble sampler) with {0} walkers\".format(nwalkers))\n",
    "sampler = emcee.EnsembleSampler(nwalkers, ndim, log_posterior, args=[D])\n",
    "\n",
    "# \"burn-in\" period; save final positions and then reset\n",
    "pos, prob, state = sampler.run_mcmc(starting_guesses, nburn)\n",
    "sampler.reset()\n",
    "\n",
    "# sampling period\n",
    "sampler.run_mcmc(pos, nsteps)\n",
    "\n",
    "print(\"Mean acceptance fraction: {0:.3f} (in total {1} steps)\"\n",
    "                .format(np.mean(sampler.acceptance_fraction),nwalkers*nsteps))\n",
    "\n",
    "# discard burn-in points and flatten the walkers; the shape of samples is (nwalkers*nsteps, ndim)\n",
    "samples = sampler.chain.reshape((-1, ndim))"
   ]
  },
  {
   "cell_type": "code",
   "execution_count": 13,
   "metadata": {},
   "outputs": [
    {
     "name": "stdout",
     "output_type": "stream",
     "text": [
      "[5 7]\n",
      "[[1 2]\n",
      " [3 4]\n",
      " [5 6]]\n"
     ]
    },
    {
     "data": {
      "text/plain": [
       "array([[ 5, 14],\n",
       "       [15, 28],\n",
       "       [25, 42]])"
      ]
     },
     "execution_count": 13,
     "metadata": {},
     "output_type": "execute_result"
    }
   ],
   "source": [
    "mat = np.array([[1,2],[3,4],[5,6]])\n",
    "vec = np.array([5,7])\n",
    "print(vec)\n",
    "print(mat)\n",
    "vec * mat"
   ]
  },
  {
   "cell_type": "code",
   "execution_count": 16,
   "metadata": {},
   "outputs": [
    {
     "data": {
      "text/plain": [
       "array([[10.04750785,  1.07224782],\n",
       "       [10.01634032,  1.04576554],\n",
       "       [10.00525707,  1.06980085],\n",
       "       ...,\n",
       "       [10.1389482 ,  0.98886785],\n",
       "       [10.18146182,  1.02784902],\n",
       "       [10.20036124,  1.04475111]])"
      ]
     },
     "execution_count": 16,
     "metadata": {},
     "output_type": "execute_result"
    }
   ],
   "source": [
    "samples"
   ]
  },
  {
   "cell_type": "markdown",
   "metadata": {
    "slideshow": {
     "slide_type": "subslide"
    }
   },
   "source": [
    "If this all worked correctly, the array *samples* should contain a series of draws from the posterior. Let's plot them using a so called corner plot (to be discussed in much more detail during the course)."
   ]
  },
  {
   "cell_type": "code",
   "execution_count": 14,
   "metadata": {
    "scrolled": false,
    "slideshow": {
     "slide_type": "fragment"
    }
   },
   "outputs": [
    {
     "data": {
      "image/png": "[encoded data removed]",
      "text/plain": [
       "<Figure size 396x396 with 4 Axes>"
      ]
     },
     "metadata": {},
     "output_type": "display_data"
    }
   ],
   "source": [
    "# make a corner plot with the posterior distribution\n",
    "fig = corner.corner(samples, labels=[\"$\\mu$\", \"$\\sigma$\"],\n",
    "                    truths=[mu_true, sigma_true],quantiles=[0.16, 0.5, 0.84],\n",
    "                    show_titles=True, title_kwargs={\"fontsize\": 12})\n",
    "\n",
    "# With some manual efforts, we can add the maximum-likelihood estimate from \n",
    "#  the frequentist analysis.           \n",
    "maxlike_results = (mu_est,sigma_est)\n",
    "\n",
    "# First, extract the axes\n",
    "axes = np.array(fig.axes).reshape((ndim, ndim))\n",
    "\n",
    "# Then, loop over the diagonal\n",
    "for i in range(ndim):\n",
    "    ax = axes[i, i]\n",
    "    ax.axvline(maxlike_results[i], color=\"r\")\n",
    "\n",
    "# And finally, loop over the histograms\n",
    "for yi in range(ndim):\n",
    "    for xi in range(yi):\n",
    "        ax = axes[yi, xi]\n",
    "        ax.axvline(maxlike_results[xi], color=\"r\")\n",
    "        ax.axhline(maxlike_results[yi], color=\"r\")\n",
    "        ax.plot(maxlike_results[xi], maxlike_results[yi], \"sr\")"
   ]
  },
  {
   "cell_type": "markdown",
   "metadata": {
    "slideshow": {
     "slide_type": "subslide"
    }
   },
   "source": [
    "The lower left panel in the corner plot shows the joint probability distribution for the two model parameters. The two plots on the diagonal show marginalized distributions (with one parameter integrated out) for the two model parameters. The blue lines indicate the *true* values of the model parameters, while the title and the dashed lines indicate the most probable value as well as a 68% confidence interval. We will be discussing these representative measures of a posterior distribution during the course. \n",
    "\n",
    "The frequentist maximum-likelihood estimate from before is indicated by the red lines (that we added manually to the plot). As you can see, for this particular setup the maximum-likelihood estimate agrees with the most probable value from the MCMC sampling of the Bayesian posterior distribution.\n",
    "\n",
    "The pure Bayesian result for a problem like this, however, would be to report the posterior distribution itself (i.e. its representative sample), and leave it at that. That is, in pure Bayesianism the answer to a question is not a single number with error bars; the answer is the posterior distribution over the model parameters! "
   ]
  },
  {
   "cell_type": "markdown",
   "metadata": {
    "slideshow": {
     "slide_type": "slide"
    }
   },
   "source": [
    "## Discussion\n",
    "Now, you might come away with the impression that the Bayesian method is unnecessarily complicated, and in this case it certainly is. Using an Affine Invariant Markov Chain Monte Carlo Ensemble sampler to characterize a two-dimensional normal distribution is a bit like using the Death Star to destroy a beach ball, but we did this here because it demonstrates an approach that can scale to complicated posteriors in many, many dimensions, and can provide nice results in more complicated situations where an analytic likelihood approach is not possible."
   ]
  }
 ],
 "metadata": {
  "celltoolbar": "Slideshow",
  "kernelspec": {
   "display_name": "Python 3",
   "language": "python",
   "name": "python3"
  },
  "language_info": {
   "codemirror_mode": {
    "name": "ipython",
    "version": 3
   },
   "file_extension": ".py",
   "mimetype": "text/x-python",
   "name": "python",
   "nbconvert_exporter": "python",
   "pygments_lexer": "ipython3",
   "version": "3.8.5"
  }
 },
 "nbformat": 4,
 "nbformat_minor": 2
}
