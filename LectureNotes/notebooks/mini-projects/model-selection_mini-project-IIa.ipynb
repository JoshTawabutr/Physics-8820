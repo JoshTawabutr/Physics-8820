{
 "cells": [
  {
   "cell_type": "markdown",
   "metadata": {
    "slideshow": {
     "slide_type": "slide"
    }
   },
   "source": [
    "# Mini-project IIa: Model selection basics\n",
    "\n",
    "Adapted from Christian Forssen, TALENT Course 11, June, 2019.\n",
    "$% Some LaTeX definitions we'll use.\n",
    "\\newcommand{\\pr}{\\textrm{p}}\n",
    "$"
   ]
  },
  {
   "cell_type": "markdown",
   "metadata": {},
   "source": [
    "**For this part of mini-project II (that is, part a), your task is simply to work through this notebook and answer the questions, modifying the code as needed. Turn in the notebook with the questions answered and any new code.** "
   ]
  },
  {
   "cell_type": "markdown",
   "metadata": {},
   "source": [
    "### Bayesian evidence: \n",
    "Please see the notes for Lecture 14 for background and the discussion of \"The story of Dr. A and Prof. B from Sivia's book. There is also a summary of Laplace's method for approximating evidence factors."
   ]
  },
  {
   "cell_type": "markdown",
   "metadata": {},
   "source": [
    "### Import of modules"
   ]
  },
  {
   "cell_type": "code",
   "execution_count": 1,
   "metadata": {},
   "outputs": [],
   "source": [
    "%matplotlib inline\n",
    "\n",
    "import numpy as np\n",
    "import matplotlib.pyplot as plt\n",
    "import seaborn as sns; sns.set(\"talk\")  # for plot formatting\n",
    "\n",
    "from scipy import optimize"
   ]
  },
  {
   "cell_type": "markdown",
   "metadata": {
    "slideshow": {
     "slide_type": "slide"
    }
   },
   "source": [
    "## What order polynomial?"
   ]
  },
  {
   "cell_type": "markdown",
   "metadata": {},
   "source": [
    "Throughout the rest of this section, we will use data that was generated from a \"true model\" where x and y satisfy the following:\n",
    "\n",
    "$$\n",
    "y_i = x_i \\sin(x_i)+\\epsilon_i, \n",
    "$$\n",
    "\n",
    "where $0 \\leq x_i \\leq 3$ and the noise is drawn from a normal distribution $\\epsilon_i \\sim \\mathcal{N}(0, \\sigma_0)$. The values for 20 regularly spaced points with $\\sigma_0=0.1$ are shown below."
   ]
  },
  {
   "cell_type": "code",
   "execution_count": 2,
   "metadata": {},
   "outputs": [],
   "source": [
    "#------------------------------------------------------------\n",
    "# Define our functional form\n",
    "def true_func(x):\n",
    "    \"\"\"The true function behind the data.\"\"\"\n",
    "    return np.sin(x) * x\n",
    "\n",
    "def func(x, dy):\n",
    "    \"\"\"Returns the true function evaluated at x with Gaussian noise\n",
    "        with standard deviation dy.\n",
    "    \"\"\"\n",
    "    return np.random.normal(true_func(x), dy)\n",
    "\n",
    "#------------------------------------------------------------\n",
    "# generate the (noisy) data\n",
    "np.random.seed()  # Use np.random.seed() for new random numbers.\n",
    "                  # Use np.random.seed(42) for repeatable random numbers.\n",
    "\n",
    "num_data = 20           # number of data points\n",
    "x_min = 0; x_max = 3.   # specify the data range\n",
    "\n",
    "# Build x and y arrays with noisy data\n",
    "x = np.linspace(x_min, x_max, num_data+2)[1:-1]  # exclude end points\n",
    "sig0 = 0.1  # Later: try 0.5 or higher or 0.01\n",
    "y = func(x, sig0)"
   ]
  },
  {
   "cell_type": "code",
   "execution_count": 3,
   "metadata": {
    "slideshow": {
     "slide_type": "subslide"
    }
   },
   "outputs": [
    {
     "data": {
      "image/png": "[encoded data removed]",
      "text/plain": [
       "<Figure size 576x432 with 1 Axes>"
      ]
     },
     "metadata": {},
     "output_type": "display_data"
    }
   ],
   "source": [
    "# Plot the current data set\n",
    "fig, ax = plt.subplots(1,1, figsize=(8,6))\n",
    "ax.errorbar(x, y, sig0, fmt='o', color='blue', label='data');\n",
    "ax.plot(x, true_func(x), color='red', label='true')\n",
    "ax.set(xlabel='x',ylabel='y')\n",
    "ax.legend()\n",
    "fig.tight_layout()"
   ]
  },
  {
   "cell_type": "markdown",
   "metadata": {
    "slideshow": {
     "slide_type": "subslide"
    }
   },
   "source": [
    "Assume that we have a multiple of models, with varying degree of sophistication. In this example we use *polynomials* of different orders to represent models of increasing complexity and with an increasing number of model parameters.\n",
    "\n",
    "> Our task is to find which model finds the most support in the *given* data.\n",
    "\n",
    "It is clear that a more complicated model with more free parameters should be able to fit the data much more closely. But what is the **evidence** in the data for such a complicated model? Finding the answer to this question is a task for a Bayesian, and the problem is generally known as *Model selection*. \n",
    "\n",
    "Below, we will use an approximate way of computing the Bayesian evidence, namely the Laplace method. In some cases one can also use conjugate priors to simplify the computation of the evidence factor. Or one can use certain sampling methods to compute the evidence numerically (this is generally quite difficult; we will try it in Mini-project 2b). The highlight will be the comparison of different models using the evidences to extract odds-ratios. "
   ]
  },
  {
   "cell_type": "markdown",
   "metadata": {
    "slideshow": {
     "slide_type": "slide"
    }
   },
   "source": [
    "### The Model\n",
    "\n",
    "See previous lecture notes, in particular Lectures 10 and 11, for some more details.\n",
    "\n",
    "In general, we're fitting a $M$-degree polynomial to data, \n",
    "\n",
    "$$\n",
    "y_M(x) = \\sum_{i=0}^M \\theta_i x^i\n",
    "$$\n",
    "\n",
    "where we use $\\theta$ to denote our parameter vector of length $M+1$."
   ]
  },
  {
   "cell_type": "markdown",
   "metadata": {},
   "source": [
    "Assuming all the points are independent, we can find the full log likelihood by adding the individual likelihoods together:\n",
    "\n",
    "$$\n",
    "\\begin{align}\n",
    "\\log p(D\\mid\\theta, I) &= -\\frac{1}{2}\\sum_{i=1}^N\\left(\\log(2\\pi\\sigma_0^2) + \\frac{\\left[ y_i - y_M(x_i;\\theta)\\right]^2}{\\sigma_0^2}\\right) \\\\\n",
    "&= \\text{constant} - \\sum_{i=1}^N \\frac{\\left[ y_i - y_M(x_i;\\theta)\\right]^2}{2 \\sigma_0^2}\n",
    "\\end{align}\n",
    "$$\n",
    "\n",
    "We often define the residuals\n",
    "\n",
    "$$\n",
    "R_i = \\left[ y_i - y_M(x_i;\\theta) \\right]/\\sigma_0,\n",
    "$$\n",
    "\n",
    "so that the relevant chi-square sum reads $- \\sum_{i=1}^N R_i^2 / 2$."
   ]
  },
  {
   "cell_type": "code",
   "execution_count": 4,
   "metadata": {
    "slideshow": {
     "slide_type": "subslide"
    }
   },
   "outputs": [],
   "source": [
    "def residuals(theta, x=x, y=y, sigma0=sig0):\n",
    "    \"\"\"Calculate residuals using the numpy function polyval\"\"\"\n",
    "    dy = y - np.polyval(theta, x)\n",
    "    return dy / sigma0\n",
    "\n",
    "def log_likelihood(theta):\n",
    "    \"\"\" Standard likelihood with Gaussian errors as specified using defaults.\n",
    "        Uniform prior for theta is implied.\n",
    "    \"\"\"\n",
    "    return -0.5 * np.sum(residuals(theta)**2)"
   ]
  },
  {
   "cell_type": "markdown",
   "metadata": {
    "slideshow": {
     "slide_type": "subslide"
    }
   },
   "source": [
    "### Maximum likelihood fits"
   ]
  },
  {
   "cell_type": "markdown",
   "metadata": {},
   "source": [
    "We can maximize the likelihood to find $\\theta$ within a frequentist paradigm. Let us start with a linear fit:"
   ]
  },
  {
   "cell_type": "code",
   "execution_count": null,
   "metadata": {},
   "outputs": [],
   "source": [
    "degree = 1\n",
    "# The numpy polyfit function fits a least squares polynial to given data.\n",
    "#  Using different weights at different x points is an option, but not used\n",
    "#  here just because we have constant sigma.\n",
    "theta_hat = np.polyfit(x, y, degree)\n",
    "\n",
    "x_fit = np.linspace(0, x_max, 1000)\n",
    "y_fit = np.polyval(theta_hat, x_fit)"
   ]
  },
  {
   "cell_type": "markdown",
   "metadata": {},
   "source": [
    "Rather than just plotting this fit, we will compare several different models in the figure below."
   ]
  },
  {
   "cell_type": "code",
   "execution_count": null,
   "metadata": {
    "slideshow": {
     "slide_type": "slide"
    }
   },
   "outputs": [],
   "source": [
    "def fit_degree_n(degree, ax):\n",
    "    \"\"\"Fit a polynomial of order 'degree', return the chi-squared, \n",
    "       and plot in axes 'ax'.\n",
    "    \"\"\"\n",
    "    theta_hat = np.polyfit(x, y, degree)\n",
    "    x_fit = np.linspace(x_min, x_max, 1000)\n",
    "    y_fit = np.polyval(theta_hat, x_fit)\n",
    "    \n",
    "    \n",
    "    ax.errorbar(x, y, sig0, fmt='o', color='blue')  # data\n",
    "    ax.plot(x_fit, true_func(x_fit), color='red', alpha=.5)  # true function\n",
    "    \n",
    "    # add an annotation for the degree of the polynomial fit to the data\n",
    "    ax.text(0.03, 0.96, f\"d = {degree}\", transform=plt.gca().transAxes,\n",
    "            ha='left', va='top',\n",
    "            bbox=dict(ec='k', fc='w', pad=10))\n",
    "    \n",
    "    ax.plot(x_fit, y_fit, '-k')\n",
    "    ax.set_xlabel('$x$')\n",
    "    ax.set_ylabel('$y$');\n",
    "    \n",
    "    return -2. * log_likelihood(theta_hat)  # chi_squared\n",
    "\n",
    "#------------------------------------------------------------\n",
    "# First figure: plot points with a linear fit\n",
    "nrows = 1; ncols = 3;    \n",
    "fig = plt.figure(figsize=(6*ncols, 6*nrows))  # scale figure space\n",
    "\n",
    "num_plots = nrows * ncols\n",
    "degrees = np.zeros(num_plots, dtype=int)\n",
    "chi_sqs_dof = np.zeros(num_plots)\n",
    "print('degree  chi^2/dof')\n",
    "for i in range(num_plots):\n",
    "    ax = fig.add_subplot(nrows, ncols, i+1)\n",
    "    degrees[i] = i\n",
    "    dof = len(x) - (degrees[i])\n",
    "    chi_sqs_dof[i] = fit_degree_n(i, ax) / dof \n",
    "    print(f'  {degrees[i]:d}     {chi_sqs_dof[i]:8.3f}')\n",
    "fig.tight_layout()"
   ]
  },
  {
   "cell_type": "markdown",
   "metadata": {},
   "source": [
    "### Things to do and Questions to answer\n",
    "\n",
    "* Change the degree of the polynomial that is used for the fit so that the multi-panel figure is 3 by 3.\n",
    "<br><br>\n",
    "\n",
    "\n",
    "* Plot the computed chi-squared value per degree of freedom as a function of the degree of the polynomial. Is it decreasing, or is there a peak?  How do you interpret the result?\n",
    "<br><br>\n",
    "\n",
    "\n",
    "* For which degree polynomials would you say that you're underfitting the data?\n",
    "<br><br><br>\n",
    "\n",
    "* For which degree polynomials would you say that you're overfitting the data?\n",
    "<br><br><br>\n"
   ]
  },
  {
   "cell_type": "markdown",
   "metadata": {
    "slideshow": {
     "slide_type": "slide"
    }
   },
   "source": [
    "## Bayesian evidence"
   ]
  },
  {
   "cell_type": "markdown",
   "metadata": {},
   "source": [
    "Let us try the Bayesian approach and actually compute the evidence for these different models. We will use the Laplace method for computing the norm of the posterior distribution (i.e. approximating it as a single Gaussian).\n",
    "\n",
    "We use simple uniform priors for the model parameters:\n",
    "\n",
    "$$\n",
    "p(\\theta_i|I) = \\left\\{\n",
    "\\begin{array}{ll}\n",
    "\\frac{1}{\\theta_\\mathrm{max} - \\theta_\\mathrm{min}} & \\text{for } \\theta_\\mathrm{min} \\leq \\theta_i \\leq \\theta_\\mathrm{max}, \\\\\n",
    "0 & \\text{otherwise},\n",
    "\\end{array}\n",
    "\\right.\n",
    "$$\n",
    "\n",
    "which means that the posterior will be\n",
    "\n",
    "$$\n",
    "p(\\theta | D, I) = \\frac{1}{(\\theta_\\mathrm{max} - \\theta_\\mathrm{min})^K} \\frac{1}{\\sqrt{(2\\pi)\\sigma_0^2}^N} \\exp\\left( -\\chi^2 / 2\\right),\n",
    "$$\n",
    "\n",
    "within the allowed prior region for the $K$ parameters and zero elsewhere."
   ]
  },
  {
   "cell_type": "markdown",
   "metadata": {
    "slideshow": {
     "slide_type": "subslide"
    }
   },
   "source": [
    "Assuming that the peak of the Gaussian is located at $\\theta^*$, well inside the prior region; we can easily approximate the integral\n",
    "\n",
    "$$\n",
    "Z_p = \\int d^K\\theta\\, p(\\theta | D, I),\n",
    "$$\n",
    "\n",
    "using Laplace's method (see Lecture 14 notes). With this particular choice of prior, and again under the assumption that the cut at the edges does not change the integral over the multidimensional integral, we get\n",
    "\n",
    "$$\n",
    "Z_p \\approx \\frac{1}{(\\theta_\\mathrm{max} - \\theta_\\mathrm{min})^K} \\exp\\left( -\\chi^2(\\theta^*) / 2\\right) \\frac{\\sqrt{(2\\pi)^K}}{\\sqrt{\\det(\\Sigma^{-1})}},\n",
    "$$\n",
    "\n",
    "where $\\Sigma^{-1}_{ij} = \\partial^2\\chi^2/\\partial \\theta_i \\partial \\theta_j$ (i.e. the Hessian) evaluated at the maximum $\\theta^*$. We removed the constant factor $\\sqrt{(2\\pi)\\sigma_0^2}^N$ since it will be the same for all models. \n",
    "\n",
    "Note that for this linear regression problem we can get all these quantities ($\\theta^*$, $\\Sigma$) via linear algebra. See, e.g., the Lecture 11 notes or Hogg's nice paper: [Data analysis recipes: Fitting a model to data](https://arxiv.org/abs/1008.4686). Below, we will use `numpy.polyfit` to extract the relevant quantities."
   ]
  },
  {
   "cell_type": "code",
   "execution_count": null,
   "metadata": {},
   "outputs": [],
   "source": [
    "# We use a uniform prior for all parameters in [theta_min, theta_max]\n",
    "theta_max = 1000\n",
    "theta_min = -1000\n",
    "prior_range = theta_max - theta_min"
   ]
  },
  {
   "cell_type": "code",
   "execution_count": null,
   "metadata": {
    "slideshow": {
     "slide_type": "subslide"
    }
   },
   "outputs": [],
   "source": [
    "degree_max = 8\n",
    "evidence = np.zeros(degree_max+1)\n",
    "print(\"Degree  P*          Best fit parameters: \")\n",
    "for ideg,deg in enumerate(range(degree_max+1)):\n",
    "    theta_hat, Cov = np.polyfit(x, y, deg, cov='unscaled')\n",
    "    if not (np.all(theta_hat < theta_max) and np.all(theta_hat > theta_min)):\n",
    "        print(\"Outside of prior range\")\n",
    "    P_star = np.exp(log_likelihood(theta_hat))\n",
    "    H = np.linalg.inv(Cov)\n",
    "    evidence[ideg] = P_star * np.sqrt((2*np.pi)**deg / np.linalg.det(H)) / prior_range**deg\n",
    "    print (f'   {deg}    {P_star:.2e}  ',('{:5.2f} '*len(theta_hat)).format(*theta_hat))"
   ]
  },
  {
   "cell_type": "code",
   "execution_count": null,
   "metadata": {
    "slideshow": {
     "slide_type": "subslide"
    }
   },
   "outputs": [],
   "source": [
    "# plot the evidence\n",
    "\n",
    "d = np.arange(0, degree_max+1)\n",
    "\n",
    "fig,ax = plt.subplots(figsize=(8, 6))\n",
    "ax.plot(d,evidence,'o-')\n",
    "\n",
    "ax.set_xlabel('polynomial degree')\n",
    "ax.set_ylabel('evidence');"
   ]
  },
  {
   "cell_type": "markdown",
   "metadata": {},
   "source": [
    "### Explorations:  Things to do and Questions to answer\n",
    "\n",
    "* Can you see the transition from underfit to overfit in the figures?\n",
    "<br><br>\n",
    "* What would you say is the degree of polynomial that is supported by the data?\n",
    "<br><br>\n",
    "* Describe the results after you change the number of the generated data? E.g., try `num_data` = 10.\n",
    "<br><br>\n",
    "* Describe the results after you change the range of the generated data?  E.g., try `x_max` = 1.\n",
    "<br><br>\n",
    "* Describe the results after you change the error of the generated data?  E.g., try `sig0` = 0.5.\n",
    "<br><br>\n"
   ]
  },
  {
   "cell_type": "markdown",
   "metadata": {},
   "source": [
    "We see sensitivity to the prior in the peak of the evidence with the degree of the polynomial in our model.  What about the scale-invariant prior advocated by [Minka](https://tminka.github.io/papers/minka-linear.pdf)?  Another possibility advanced by Trotta (Bayes in the sky) is a multi-normal Gaussian distribution with zero mean and Fisher information matrix as covariance. These are worth trying (but you don't need to do them for Mini-Project IIa).  "
   ]
  },
  {
   "cell_type": "markdown",
   "metadata": {
    "slideshow": {
     "slide_type": "slide"
    }
   },
   "source": [
    "#### Odds-ratios\n",
    "Quoting Table 1 from the well-known paper by Trotta:\n",
    "[Bayes in the sky: Bayesian inference and model selection in cosmology](https://arxiv.org/abs/0803.4089) we can quantify an empirical scale for evaluating the strength of evidence when comparing two models:\n",
    "![Bayes in the Sky](../../_images/trotta.png)\n",
    "\n",
    "Here, the ratio of the evidences of model $M_0$ and $M_1$ is given by,\n",
    "\n",
    "$$\n",
    " \\label{eq:Bayes_factor}\n",
    " B_{01} = \\frac{p(\\mathrm{data} | M_0)}{p(\\mathrm{data} | M_1)} \\; ,\n",
    "$$\n",
    "\n",
    "which is also called _Bayes factor_. That means $|\\ln B_{01}| \\equiv |\\ln p(\\mathrm{data} | M_0) - \\ln p(\\mathrm{data} | M_1)|$ is the relevant quantity for estimating the strength of evidence of the two models (see first and last column of the table)."
   ]
  },
  {
   "cell_type": "markdown",
   "metadata": {},
   "source": [
    "### Question\n",
    "\n",
    "* Below we have created a table of odds-ratios between pairs of the different-order polynomial models, given that the ratio of prior probabilities for the different models is unity.  Interpret the table based on Trotta's chart. \n",
    "<br>\n",
    "<br>"
   ]
  },
  {
   "cell_type": "code",
   "execution_count": null,
   "metadata": {},
   "outputs": [],
   "source": [
    "# Odds ratio table\n",
    "print('Calculating the logarithm of the Bayes ratio of degree n to n+1')\n",
    "print('  n   n+1   log(Bn,n+1)')\n",
    "for ideg,deg in enumerate(range(degree_max)):\n",
    "    odds_ratio = evidence[ideg] / evidence[ideg+1]\n",
    "    print(f'  {deg}   {deg+1}      {np.abs(np.log(odds_ratio)):.2f}')\n"
   ]
  },
  {
   "cell_type": "markdown",
   "metadata": {},
   "source": [
    "## Bonus:  Do this section for a plus"
   ]
  },
  {
   "cell_type": "markdown",
   "metadata": {
    "slideshow": {
     "slide_type": "slide"
    }
   },
   "source": [
    "### Cross validation\n",
    "This section will introduce the frequentist tool of cross-validation. This approach is used extensively within machine-learning as a way to handle overfitting and underfitting, bias and variance."
   ]
  },
  {
   "cell_type": "code",
   "execution_count": null,
   "metadata": {},
   "outputs": [],
   "source": [
    "# Select the cross-validation points\n",
    "ncross=5\n",
    "index_cv = np.random.choice(range(len(x)), ncross, replace=False)\n",
    "\n",
    "x_cv=x[index_cv]\n",
    "y_cv=y[index_cv]"
   ]
  },
  {
   "cell_type": "code",
   "execution_count": null,
   "metadata": {},
   "outputs": [],
   "source": [
    "# The training data is then\n",
    "x_train = np.delete(x,index_cv)\n",
    "y_train = np.delete(y,index_cv)"
   ]
  },
  {
   "cell_type": "code",
   "execution_count": null,
   "metadata": {
    "scrolled": false
   },
   "outputs": [],
   "source": [
    "# Plot training and CV errors as a function of polynomial degree d\n",
    "degree_max = 13\n",
    "d = np.arange(0, degree_max+1)\n",
    "training_err = np.zeros(d.shape)\n",
    "crossval_err = np.zeros(d.shape)\n",
    "\n",
    "fig,ax = plt.subplots(figsize=(8, 6))\n",
    "for i in range(len(d)):\n",
    "    p = np.polyfit(x_train, y_train, d[i])\n",
    "    training_err[i] = np.sqrt(np.sum((np.polyval(p, x_train) - y_train) ** 2)\n",
    "                              / len(y_train))\n",
    "    crossval_err[i] = np.sqrt(np.sum((np.polyval(p, x_cv) - y_cv) ** 2)\n",
    "                              / len(y_cv))\n",
    "\n",
    "ax.plot(d, crossval_err, '--k', label='cross-validation')\n",
    "ax.plot(d, training_err, '-k', label='training')\n",
    "ax.plot(d, sig0 * np.ones(d.shape), ':k')\n",
    "\n",
    "ax.set_xlim(0, degree_max)\n",
    "# You might need to change the y-scale if you make modifications to the training data\n",
    "ax.set_ylim(0, 0.8)\n",
    "\n",
    "ax.set_xlabel('polynomial degree')\n",
    "ax.set_ylabel('rms error')\n",
    "ax.legend(loc='best');\n"
   ]
  },
  {
   "cell_type": "markdown",
   "metadata": {
    "slideshow": {
     "slide_type": "-"
    }
   },
   "source": [
    "### Answer these questions\n",
    "\n",
    "* Can you see the transition from underfit to overfit in this figure?\n",
    "<br><br>\n",
    "* What would you say is the degree of polynomial that is supported by the data?\n",
    "<br><br>\n",
    "* Try changing the size of the cross-validation and training sets. Does the conclusions become more/less clear?\n",
    "<br><br>\n",
    "* Do the results change between different runs with the same number of CV samples? If so, why?\n",
    "<br><br>\n",
    "* K-fold cross validation is a popular variant of CV. It addresses some issues with the sensitivity to the actual choice of which data is used for training and validation.  What do you think that it means, and what is the possible drawback if you have a computational expensive model?\n",
    "<br><br>\n",
    "* Leave-one-out is another variant. For linear regression problems, this type of cross-validation can actually be performed without having to do multiple fits. What do you think that it means?\n",
    "<br><br>\n",
    "* It is common to divide the data into a training set, a cross-validation set, and a test set. What do you think is the purpose of having three different sets?\n",
    "<br><br>\n"
   ]
  },
  {
   "cell_type": "code",
   "execution_count": null,
   "metadata": {},
   "outputs": [],
   "source": []
  }
 ],
 "metadata": {
  "celltoolbar": "Slideshow",
  "kernelspec": {
   "display_name": "Python 3",
   "language": "python",
   "name": "python3"
  },
  "language_info": {
   "codemirror_mode": {
    "name": "ipython",
    "version": 3
   },
   "file_extension": ".py",
   "mimetype": "text/x-python",
   "name": "python",
   "nbconvert_exporter": "python",
   "pygments_lexer": "ipython3",
   "version": "3.8.5"
  }
 },
 "nbformat": 4,
 "nbformat_minor": 2
}
